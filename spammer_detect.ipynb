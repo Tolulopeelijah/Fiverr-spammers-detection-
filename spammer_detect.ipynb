{
 "cells": [
  {
   "cell_type": "code",
   "execution_count": 80,
   "id": "dfa3c3f1",
   "metadata": {},
   "outputs": [],
   "source": [
    "import pandas as pd\n",
    "import numpy as np\n",
    "from sklearn.metrics import f1_score, accuracy_score\n",
    "import torch\n",
    "from torch.autograd import Variable\n",
    "import torch.nn as nn\n",
    "from sklearn.model_selection import train_test_split\n",
    "import matplotlib.pyplot as plt\n",
    "from torch.utils.data import TensorDataset\n",
    "from sklearn import metrics\n",
    "from tqdm import tqdm"
   ]
  },
  {
   "cell_type": "code",
   "execution_count": 2,
   "id": "7fc3e2fd",
   "metadata": {},
   "outputs": [],
   "source": [
    "train = pd.read_csv('data/train.csv')\n",
    "test = pd.read_csv('data/train.csv')\n",
    "submission = pd.read_csv('data/sample_submission.csv')\n"
   ]
  },
  {
   "cell_type": "code",
   "execution_count": 130,
   "id": "585b21c8",
   "metadata": {},
   "outputs": [],
   "source": [
    "train = train.drop(['X27', 'X29', 'X30', 'X33', 'X46', 'X47', 'X48'], axis = 1)"
   ]
  },
  {
   "cell_type": "code",
   "execution_count": 3,
   "id": "68b30c92",
   "metadata": {},
   "outputs": [],
   "source": [
    "DEVICE = 'cuda' if torch.cuda.is_available() else 'cpu'"
   ]
  },
  {
   "cell_type": "code",
   "execution_count": 4,
   "id": "ba848451",
   "metadata": {},
   "outputs": [],
   "source": [
    "# train.head(20)"
   ]
  },
  {
   "cell_type": "code",
   "execution_count": 5,
   "id": "22aa8063",
   "metadata": {},
   "outputs": [],
   "source": [
    "# train.shape"
   ]
  },
  {
   "cell_type": "code",
   "execution_count": 6,
   "id": "f7d4c548",
   "metadata": {},
   "outputs": [],
   "source": [
    "# train.info()"
   ]
  },
  {
   "cell_type": "code",
   "execution_count": 7,
   "id": "82a519cb",
   "metadata": {},
   "outputs": [],
   "source": [
    "# train.isnull().sum()"
   ]
  },
  {
   "cell_type": "code",
   "execution_count": 8,
   "id": "44c61abf",
   "metadata": {},
   "outputs": [],
   "source": [
    "# train.describe()"
   ]
  },
  {
   "cell_type": "code",
   "execution_count": 9,
   "id": "ef9332cc",
   "metadata": {},
   "outputs": [
    {
     "name": "stdout",
     "output_type": "stream",
     "text": [
      "X27\n",
      "X29\n",
      "X30\n",
      "X33\n",
      "X46\n",
      "X47\n",
      "X48\n"
     ]
    }
   ],
   "source": [
    "for i in train.columns:\n",
    "    if train[i].nunique() == 1:\n",
    "        print(i)"
   ]
  },
  {
   "cell_type": "code",
   "execution_count": 10,
   "id": "4255a4a1",
   "metadata": {},
   "outputs": [],
   "source": [
    "train['X13'].fillna(train['X13'].mean(), inplace = True)"
   ]
  },
  {
   "cell_type": "code",
   "execution_count": 11,
   "id": "2dd25770",
   "metadata": {},
   "outputs": [],
   "source": [
    "label = train.pop('label')"
   ]
  },
  {
   "cell_type": "code",
   "execution_count": 12,
   "id": "ac0b9b96",
   "metadata": {},
   "outputs": [],
   "source": [
    "X_train, X_test, y_train, y_test = train_test_split(train, label)"
   ]
  },
  {
   "cell_type": "code",
   "execution_count": 13,
   "id": "44716886",
   "metadata": {},
   "outputs": [],
   "source": [
    "training_data = torch.from_numpy(X_train.values).type(torch.float32).to(DEVICE)\n",
    "testing_data = torch.from_numpy(X_test.values).type(torch.float32).to(DEVICE)\n",
    "training_label = torch.from_numpy(y_train.values).type(torch.float32).to(DEVICE)\n",
    "testing_label = torch.from_numpy(y_test.values).type(torch.float32).to(DEVICE)"
   ]
  },
  {
   "cell_type": "code",
   "execution_count": 15,
   "id": "f6ce6b79",
   "metadata": {},
   "outputs": [
    {
     "ename": "AttributeError",
     "evalue": "module 'torch.nn.utils' has no attribute 'data'",
     "output_type": "error",
     "traceback": [
      "\u001b[1;31m---------------------------------------------------------------------------\u001b[0m",
      "\u001b[1;31mAttributeError\u001b[0m                            Traceback (most recent call last)",
      "Input \u001b[1;32mIn [15]\u001b[0m, in \u001b[0;36m<cell line: 1>\u001b[1;34m()\u001b[0m\n\u001b[1;32m----> 1\u001b[0m \u001b[38;5;28;01mclass\u001b[39;00m \u001b[38;5;21;01mData\u001b[39;00m(\u001b[43mnn\u001b[49m\u001b[38;5;241;43m.\u001b[39;49m\u001b[43mutils\u001b[49m\u001b[38;5;241;43m.\u001b[39;49m\u001b[43mdata\u001b[49m\u001b[38;5;241m.\u001b[39mDataset):\n\u001b[0;32m      2\u001b[0m     \u001b[38;5;28;01mdef\u001b[39;00m \u001b[38;5;21m__init__\u001b[39m(\u001b[38;5;28mself\u001b[39m, X, y):\n\u001b[0;32m      3\u001b[0m         \u001b[38;5;28mself\u001b[39m\u001b[38;5;241m.\u001b[39mX \u001b[38;5;241m=\u001b[39m X\n",
      "\u001b[1;31mAttributeError\u001b[0m: module 'torch.nn.utils' has no attribute 'data'"
     ]
    }
   ],
   "source": [
    "class Data(nn.utils.data.Dataset):\n",
    "    def __init__(self, X, y):\n",
    "        self.X = X\n",
    "        self.y = y\n",
    "        \n",
    "    def __len__(self):\n",
    "        return self.X.shape[0]\n",
    "    def __getitem__(self, pos):\n",
    "        return self.X.iloc[pos], self.y.iloc[pos]"
   ]
  },
  {
   "cell_type": "code",
   "execution_count": 112,
   "id": "1195ea7a",
   "metadata": {},
   "outputs": [],
   "source": [
    "class FeedForward(nn.Module):\n",
    "    def __init__(self, input_dimension, output_dimension):\n",
    "        super().__init__()\n",
    "        self.net = nn.Sequential(\n",
    "            nn.BatchNorm1d(input_dimension),\n",
    "            nn.Linear(input_dimension, 100),\n",
    "#             nn.Tanh(),\n",
    "            nn.Linear(100, 100),\n",
    "#             nn.ReLU(inplace = True),\n",
    "            nn.Linear(100, 1)\n",
    "        )\n",
    "    def forward(self, x):\n",
    "        return self.net(x).view(-1)"
   ]
  },
  {
   "cell_type": "code",
   "execution_count": 113,
   "id": "aaf77cb8",
   "metadata": {},
   "outputs": [
    {
     "data": {
      "text/plain": [
       "15"
      ]
     },
     "execution_count": 113,
     "metadata": {},
     "output_type": "execute_result"
    }
   ],
   "source": [
    "from math import ceil\n",
    "total_size = len(X_train)\n",
    "batch_size = 5000\n",
    "iteration = 1000\n",
    "epoch = iteration / (total_size / batch_size)\n",
    "epoch = ceil(epoch)\n",
    "epoch"
   ]
  },
  {
   "cell_type": "code",
   "execution_count": 114,
   "id": "7c76ee58",
   "metadata": {},
   "outputs": [],
   "source": [
    "training_loader = torch.utils.data.DataLoader(TensorDataset(training_data, training_label), batch_size = batch_size, shuffle = True)\n",
    "validation_loader = torch.utils.data.DataLoader(TensorDataset(testing_data, testing_label), batch_size = batch_size, shuffle = True)\n",
    "testing_loader = torch.utils.data.DataLoader(testing_data, batch_size = batch_size, shuffle = False)"
   ]
  },
  {
   "cell_type": "code",
   "execution_count": 115,
   "id": "1a7d204c",
   "metadata": {},
   "outputs": [],
   "source": [
    "input_dimension = X_train.shape[1]\n",
    "output_dimension = 1"
   ]
  },
  {
   "cell_type": "code",
   "execution_count": 133,
   "id": "e80de88b",
   "metadata": {},
   "outputs": [],
   "source": [
    "model = FeedForward(input_dimension, output_dimension).to(DEVICE)\n",
    "learning_rate = 5e-4\n",
    "optimizer = torch.optim.Adam(model.parameters(), lr = learning_rate)\n",
    "criterion = nn.BCEWithLogitsLoss()"
   ]
  },
  {
   "cell_type": "code",
   "execution_count": 134,
   "id": "ff4072ff",
   "metadata": {},
   "outputs": [],
   "source": [
    "def get_predictions(loader, model, device):\n",
    "    model.eval()\n",
    "    saved = []\n",
    "    true = []\n",
    "    \n",
    "    with torch.inference_mode():\n",
    "        for x, y in loader:\n",
    "            x = x.to(device)\n",
    "            y = y.to(device)\n",
    "            scores = model(x)\n",
    "            scores = torch.round(torch.sigmoid(scores))\n",
    "            saved += scores.tolist()\n",
    "            true += y.tolist()\n",
    "    model.train()\n",
    "    return saved, true"
   ]
  },
  {
   "cell_type": "code",
   "execution_count": 135,
   "id": "8ac6e34e",
   "metadata": {},
   "outputs": [
    {
     "name": "stderr",
     "output_type": "stream",
     "text": [
      "1it [00:06,  6.95s/it]"
     ]
    },
    {
     "name": "stdout",
     "output_type": "stream",
     "text": [
      "0\n",
      "1 | training_loss ==== 0.7329 | evaluating_loss ==== 0.6864 | scores ==== 0.3872\n"
     ]
    },
    {
     "name": "stderr",
     "output_type": "stream",
     "text": [
      "6it [00:40,  6.82s/it]"
     ]
    },
    {
     "name": "stdout",
     "output_type": "stream",
     "text": [
      "5\n",
      "1 | training_loss ==== 0.6778 | evaluating_loss ==== 0.6956 | scores ==== 0.3618\n"
     ]
    },
    {
     "name": "stderr",
     "output_type": "stream",
     "text": [
      "11it [01:12,  6.46s/it]"
     ]
    },
    {
     "name": "stdout",
     "output_type": "stream",
     "text": [
      "10\n",
      "1 | training_loss ==== 0.6259 | evaluating_loss ==== 0.6599 | scores ==== 0.4701\n"
     ]
    },
    {
     "name": "stderr",
     "output_type": "stream",
     "text": [
      "16it [01:44,  6.33s/it]"
     ]
    },
    {
     "name": "stdout",
     "output_type": "stream",
     "text": [
      "15\n",
      "1 | training_loss ==== 0.5756 | evaluating_loss ==== 0.6016 | scores ==== 0.5466\n"
     ]
    },
    {
     "name": "stderr",
     "output_type": "stream",
     "text": [
      "21it [02:17,  6.52s/it]"
     ]
    },
    {
     "name": "stdout",
     "output_type": "stream",
     "text": [
      "20\n",
      "1 | training_loss ==== 0.5229 | evaluating_loss ==== 0.5372 | scores ==== 0.6091\n"
     ]
    },
    {
     "name": "stderr",
     "output_type": "stream",
     "text": [
      "26it [02:49,  6.42s/it]"
     ]
    },
    {
     "name": "stdout",
     "output_type": "stream",
     "text": [
      "25\n",
      "1 | training_loss ==== 0.4691 | evaluating_loss ==== 0.4714 | scores ==== 0.6454\n"
     ]
    },
    {
     "name": "stderr",
     "output_type": "stream",
     "text": [
      "31it [03:21,  6.43s/it]"
     ]
    },
    {
     "name": "stdout",
     "output_type": "stream",
     "text": [
      "30\n",
      "1 | training_loss ==== 0.4132 | evaluating_loss ==== 0.4053 | scores ==== 0.6576\n"
     ]
    },
    {
     "name": "stderr",
     "output_type": "stream",
     "text": [
      "36it [03:53,  6.42s/it]"
     ]
    },
    {
     "name": "stdout",
     "output_type": "stream",
     "text": [
      "35\n",
      "1 | training_loss ==== 0.3577 | evaluating_loss ==== 0.3486 | scores ==== 0.6554\n"
     ]
    },
    {
     "name": "stderr",
     "output_type": "stream",
     "text": [
      "41it [04:27,  6.63s/it]"
     ]
    },
    {
     "name": "stdout",
     "output_type": "stream",
     "text": [
      "40\n",
      "1 | training_loss ==== 0.2955 | evaluating_loss ==== 0.2904 | scores ==== 0.6637\n"
     ]
    },
    {
     "name": "stderr",
     "output_type": "stream",
     "text": [
      "46it [05:00,  6.59s/it]"
     ]
    },
    {
     "name": "stdout",
     "output_type": "stream",
     "text": [
      "45\n",
      "1 | training_loss ==== 0.2477 | evaluating_loss ==== 0.2381 | scores ==== 0.6629\n"
     ]
    },
    {
     "name": "stderr",
     "output_type": "stream",
     "text": [
      "51it [05:32,  6.34s/it]"
     ]
    },
    {
     "name": "stdout",
     "output_type": "stream",
     "text": [
      "50\n",
      "1 | training_loss ==== 0.2004 | evaluating_loss ==== 0.1935 | scores ==== 0.6708\n"
     ]
    },
    {
     "name": "stderr",
     "output_type": "stream",
     "text": [
      "56it [06:03,  6.23s/it]"
     ]
    },
    {
     "name": "stdout",
     "output_type": "stream",
     "text": [
      "55\n",
      "1 | training_loss ==== 0.1656 | evaluating_loss ==== 0.1609 | scores ==== 0.6772\n"
     ]
    },
    {
     "name": "stderr",
     "output_type": "stream",
     "text": [
      "61it [06:34,  6.18s/it]"
     ]
    },
    {
     "name": "stdout",
     "output_type": "stream",
     "text": [
      "60\n",
      "1 | training_loss ==== 0.1356 | evaluating_loss ==== 0.1326 | scores ==== 0.6812\n"
     ]
    },
    {
     "name": "stderr",
     "output_type": "stream",
     "text": [
      "66it [07:05,  6.20s/it]"
     ]
    },
    {
     "name": "stdout",
     "output_type": "stream",
     "text": [
      "65\n",
      "1 | training_loss ==== 0.1112 | evaluating_loss ==== 0.1214 | scores ==== 0.6855\n"
     ]
    },
    {
     "name": "stderr",
     "output_type": "stream",
     "text": [
      "69it [07:23,  6.43s/it]\n",
      "1it [00:06,  6.18s/it]"
     ]
    },
    {
     "name": "stdout",
     "output_type": "stream",
     "text": [
      "0\n",
      "2 | training_loss ==== 0.1074 | evaluating_loss ==== 0.1118 | scores ==== 0.6847\n"
     ]
    },
    {
     "name": "stderr",
     "output_type": "stream",
     "text": [
      "6it [00:37,  6.23s/it]"
     ]
    },
    {
     "name": "stdout",
     "output_type": "stream",
     "text": [
      "5\n",
      "2 | training_loss ==== 0.0923 | evaluating_loss ==== 0.0978 | scores ==== 0.6904\n"
     ]
    },
    {
     "name": "stderr",
     "output_type": "stream",
     "text": [
      "11it [01:08,  6.18s/it]"
     ]
    },
    {
     "name": "stdout",
     "output_type": "stream",
     "text": [
      "10\n",
      "2 | training_loss ==== 0.0951 | evaluating_loss ==== 0.0876 | scores ==== 0.6850\n"
     ]
    },
    {
     "name": "stderr",
     "output_type": "stream",
     "text": [
      "16it [01:40,  6.43s/it]"
     ]
    },
    {
     "name": "stdout",
     "output_type": "stream",
     "text": [
      "15\n",
      "2 | training_loss ==== 0.0880 | evaluating_loss ==== 0.0972 | scores ==== 0.7027\n"
     ]
    },
    {
     "name": "stderr",
     "output_type": "stream",
     "text": [
      "21it [02:20,  7.70s/it]"
     ]
    },
    {
     "name": "stdout",
     "output_type": "stream",
     "text": [
      "20\n",
      "2 | training_loss ==== 0.0908 | evaluating_loss ==== 0.0782 | scores ==== 0.6944\n"
     ]
    },
    {
     "name": "stderr",
     "output_type": "stream",
     "text": [
      "26it [02:56,  7.43s/it]"
     ]
    },
    {
     "name": "stdout",
     "output_type": "stream",
     "text": [
      "25\n",
      "2 | training_loss ==== 0.0874 | evaluating_loss ==== 0.0821 | scores ==== 0.6906\n"
     ]
    },
    {
     "name": "stderr",
     "output_type": "stream",
     "text": [
      "31it [03:35,  8.19s/it]"
     ]
    },
    {
     "name": "stdout",
     "output_type": "stream",
     "text": [
      "30\n",
      "2 | training_loss ==== 0.0843 | evaluating_loss ==== 0.0783 | scores ==== 0.6926\n"
     ]
    },
    {
     "name": "stderr",
     "output_type": "stream",
     "text": [
      "36it [04:12,  7.46s/it]"
     ]
    },
    {
     "name": "stdout",
     "output_type": "stream",
     "text": [
      "35\n",
      "2 | training_loss ==== 0.0765 | evaluating_loss ==== 0.0891 | scores ==== 0.7045\n"
     ]
    },
    {
     "name": "stderr",
     "output_type": "stream",
     "text": [
      "41it [04:49,  7.29s/it]"
     ]
    },
    {
     "name": "stdout",
     "output_type": "stream",
     "text": [
      "40\n",
      "2 | training_loss ==== 0.0773 | evaluating_loss ==== 0.0720 | scores ==== 0.7072\n"
     ]
    },
    {
     "name": "stderr",
     "output_type": "stream",
     "text": [
      "46it [05:31,  8.59s/it]"
     ]
    },
    {
     "name": "stdout",
     "output_type": "stream",
     "text": [
      "45\n",
      "2 | training_loss ==== 0.0819 | evaluating_loss ==== 0.0697 | scores ==== 0.7070\n"
     ]
    },
    {
     "name": "stderr",
     "output_type": "stream",
     "text": [
      "51it [06:09,  7.70s/it]"
     ]
    },
    {
     "name": "stdout",
     "output_type": "stream",
     "text": [
      "50\n",
      "2 | training_loss ==== 0.0719 | evaluating_loss ==== 0.0795 | scores ==== 0.6993\n"
     ]
    },
    {
     "name": "stderr",
     "output_type": "stream",
     "text": [
      "56it [06:53,  9.24s/it]"
     ]
    },
    {
     "name": "stdout",
     "output_type": "stream",
     "text": [
      "55\n",
      "2 | training_loss ==== 0.0733 | evaluating_loss ==== 0.0769 | scores ==== 0.6886\n"
     ]
    },
    {
     "name": "stderr",
     "output_type": "stream",
     "text": [
      "61it [07:31,  8.08s/it]"
     ]
    },
    {
     "name": "stdout",
     "output_type": "stream",
     "text": [
      "60\n",
      "2 | training_loss ==== 0.0741 | evaluating_loss ==== 0.0724 | scores ==== 0.6930\n"
     ]
    },
    {
     "name": "stderr",
     "output_type": "stream",
     "text": [
      "66it [08:18,  9.30s/it]"
     ]
    },
    {
     "name": "stdout",
     "output_type": "stream",
     "text": [
      "65\n",
      "2 | training_loss ==== 0.0792 | evaluating_loss ==== 0.0751 | scores ==== 0.7006\n"
     ]
    },
    {
     "name": "stderr",
     "output_type": "stream",
     "text": [
      "69it [08:44,  7.60s/it]\n",
      "1it [00:09,  9.12s/it]"
     ]
    },
    {
     "name": "stdout",
     "output_type": "stream",
     "text": [
      "0\n",
      "3 | training_loss ==== 0.0741 | evaluating_loss ==== 0.0638 | scores ==== 0.6974\n"
     ]
    },
    {
     "name": "stderr",
     "output_type": "stream",
     "text": [
      "6it [00:50,  8.02s/it]"
     ]
    },
    {
     "name": "stdout",
     "output_type": "stream",
     "text": [
      "5\n",
      "3 | training_loss ==== 0.0742 | evaluating_loss ==== 0.0719 | scores ==== 0.7050\n"
     ]
    },
    {
     "name": "stderr",
     "output_type": "stream",
     "text": [
      "11it [01:24,  7.16s/it]"
     ]
    },
    {
     "name": "stdout",
     "output_type": "stream",
     "text": [
      "10\n",
      "3 | training_loss ==== 0.0719 | evaluating_loss ==== 0.0911 | scores ==== 0.7020\n"
     ]
    },
    {
     "name": "stderr",
     "output_type": "stream",
     "text": [
      "16it [01:56,  6.48s/it]"
     ]
    },
    {
     "name": "stdout",
     "output_type": "stream",
     "text": [
      "15\n",
      "3 | training_loss ==== 0.0709 | evaluating_loss ==== 0.0729 | scores ==== 0.7005\n"
     ]
    },
    {
     "name": "stderr",
     "output_type": "stream",
     "text": [
      "21it [02:27,  6.22s/it]"
     ]
    },
    {
     "name": "stdout",
     "output_type": "stream",
     "text": [
      "20\n",
      "3 | training_loss ==== 0.0659 | evaluating_loss ==== 0.0810 | scores ==== 0.7007\n"
     ]
    },
    {
     "name": "stderr",
     "output_type": "stream",
     "text": [
      "26it [02:58,  6.16s/it]"
     ]
    },
    {
     "name": "stdout",
     "output_type": "stream",
     "text": [
      "25\n",
      "3 | training_loss ==== 0.0677 | evaluating_loss ==== 0.0747 | scores ==== 0.6948\n"
     ]
    },
    {
     "name": "stderr",
     "output_type": "stream",
     "text": [
      "31it [03:33,  7.12s/it]"
     ]
    },
    {
     "name": "stdout",
     "output_type": "stream",
     "text": [
      "30\n",
      "3 | training_loss ==== 0.0806 | evaluating_loss ==== 0.0800 | scores ==== 0.7161\n"
     ]
    },
    {
     "name": "stderr",
     "output_type": "stream",
     "text": [
      "36it [04:05,  6.44s/it]"
     ]
    },
    {
     "name": "stdout",
     "output_type": "stream",
     "text": [
      "35\n",
      "3 | training_loss ==== 0.0649 | evaluating_loss ==== 0.0687 | scores ==== 0.7213\n"
     ]
    },
    {
     "name": "stderr",
     "output_type": "stream",
     "text": [
      "41it [04:36,  6.23s/it]"
     ]
    },
    {
     "name": "stdout",
     "output_type": "stream",
     "text": [
      "40\n",
      "3 | training_loss ==== 0.0824 | evaluating_loss ==== 0.0674 | scores ==== 0.7154\n"
     ]
    },
    {
     "name": "stderr",
     "output_type": "stream",
     "text": [
      "46it [05:07,  6.25s/it]"
     ]
    },
    {
     "name": "stdout",
     "output_type": "stream",
     "text": [
      "45\n",
      "3 | training_loss ==== 0.0705 | evaluating_loss ==== 0.0748 | scores ==== 0.7172\n"
     ]
    },
    {
     "name": "stderr",
     "output_type": "stream",
     "text": [
      "51it [05:39,  6.25s/it]"
     ]
    },
    {
     "name": "stdout",
     "output_type": "stream",
     "text": [
      "50\n",
      "3 | training_loss ==== 0.0712 | evaluating_loss ==== 0.0694 | scores ==== 0.7039\n"
     ]
    },
    {
     "name": "stderr",
     "output_type": "stream",
     "text": [
      "56it [06:10,  6.22s/it]"
     ]
    },
    {
     "name": "stdout",
     "output_type": "stream",
     "text": [
      "55\n",
      "3 | training_loss ==== 0.0638 | evaluating_loss ==== 0.0761 | scores ==== 0.7019\n"
     ]
    },
    {
     "name": "stderr",
     "output_type": "stream",
     "text": [
      "61it [06:41,  6.29s/it]"
     ]
    },
    {
     "name": "stdout",
     "output_type": "stream",
     "text": [
      "60\n",
      "3 | training_loss ==== 0.0651 | evaluating_loss ==== 0.0776 | scores ==== 0.7207\n"
     ]
    },
    {
     "name": "stderr",
     "output_type": "stream",
     "text": [
      "66it [07:12,  6.26s/it]"
     ]
    },
    {
     "name": "stdout",
     "output_type": "stream",
     "text": [
      "65\n",
      "3 | training_loss ==== 0.0706 | evaluating_loss ==== 0.0884 | scores ==== 0.7058\n"
     ]
    },
    {
     "name": "stderr",
     "output_type": "stream",
     "text": [
      "69it [07:31,  6.54s/it]\n",
      "1it [00:06,  6.38s/it]"
     ]
    },
    {
     "name": "stdout",
     "output_type": "stream",
     "text": [
      "0\n",
      "4 | training_loss ==== 0.0728 | evaluating_loss ==== 0.0802 | scores ==== 0.6955\n"
     ]
    },
    {
     "name": "stderr",
     "output_type": "stream",
     "text": [
      "6it [00:37,  6.23s/it]"
     ]
    },
    {
     "name": "stdout",
     "output_type": "stream",
     "text": [
      "5\n",
      "4 | training_loss ==== 0.0756 | evaluating_loss ==== 0.0741 | scores ==== 0.7167\n"
     ]
    },
    {
     "name": "stderr",
     "output_type": "stream",
     "text": [
      "11it [01:10,  6.65s/it]"
     ]
    },
    {
     "name": "stdout",
     "output_type": "stream",
     "text": [
      "10\n",
      "4 | training_loss ==== 0.0645 | evaluating_loss ==== 0.0708 | scores ==== 0.7157\n"
     ]
    },
    {
     "name": "stderr",
     "output_type": "stream",
     "text": [
      "16it [01:46,  7.06s/it]"
     ]
    },
    {
     "name": "stdout",
     "output_type": "stream",
     "text": [
      "15\n",
      "4 | training_loss ==== 0.0737 | evaluating_loss ==== 0.0793 | scores ==== 0.7023\n"
     ]
    },
    {
     "name": "stderr",
     "output_type": "stream",
     "text": [
      "21it [02:20,  6.94s/it]"
     ]
    },
    {
     "name": "stdout",
     "output_type": "stream",
     "text": [
      "20\n",
      "4 | training_loss ==== 0.0780 | evaluating_loss ==== 0.0723 | scores ==== 0.7106\n"
     ]
    },
    {
     "name": "stderr",
     "output_type": "stream",
     "text": [
      "26it [02:54,  6.64s/it]"
     ]
    },
    {
     "name": "stdout",
     "output_type": "stream",
     "text": [
      "25\n",
      "4 | training_loss ==== 0.0670 | evaluating_loss ==== 0.0630 | scores ==== 0.7189\n"
     ]
    },
    {
     "name": "stderr",
     "output_type": "stream",
     "text": [
      "31it [03:25,  6.41s/it]"
     ]
    },
    {
     "name": "stdout",
     "output_type": "stream",
     "text": [
      "30\n",
      "4 | training_loss ==== 0.0710 | evaluating_loss ==== 0.0753 | scores ==== 0.7173\n"
     ]
    },
    {
     "name": "stderr",
     "output_type": "stream",
     "text": [
      "36it [03:57,  6.22s/it]"
     ]
    },
    {
     "name": "stdout",
     "output_type": "stream",
     "text": [
      "35\n",
      "4 | training_loss ==== 0.0631 | evaluating_loss ==== 0.0733 | scores ==== 0.7143\n"
     ]
    },
    {
     "name": "stderr",
     "output_type": "stream",
     "text": [
      "41it [04:27,  6.09s/it]"
     ]
    },
    {
     "name": "stdout",
     "output_type": "stream",
     "text": [
      "40\n",
      "4 | training_loss ==== 0.0692 | evaluating_loss ==== 0.0724 | scores ==== 0.7173\n"
     ]
    },
    {
     "name": "stderr",
     "output_type": "stream",
     "text": [
      "46it [04:58,  6.11s/it]"
     ]
    },
    {
     "name": "stdout",
     "output_type": "stream",
     "text": [
      "45\n",
      "4 | training_loss ==== 0.0681 | evaluating_loss ==== 0.0739 | scores ==== 0.7217\n"
     ]
    },
    {
     "name": "stderr",
     "output_type": "stream",
     "text": [
      "51it [05:29,  6.17s/it]"
     ]
    },
    {
     "name": "stdout",
     "output_type": "stream",
     "text": [
      "50\n",
      "4 | training_loss ==== 0.0757 | evaluating_loss ==== 0.0642 | scores ==== 0.7200\n"
     ]
    },
    {
     "name": "stderr",
     "output_type": "stream",
     "text": [
      "56it [05:59,  6.14s/it]"
     ]
    },
    {
     "name": "stdout",
     "output_type": "stream",
     "text": [
      "55\n",
      "4 | training_loss ==== 0.0764 | evaluating_loss ==== 0.0677 | scores ==== 0.7191\n"
     ]
    },
    {
     "name": "stderr",
     "output_type": "stream",
     "text": [
      "61it [06:30,  6.20s/it]"
     ]
    },
    {
     "name": "stdout",
     "output_type": "stream",
     "text": [
      "60\n",
      "4 | training_loss ==== 0.0715 | evaluating_loss ==== 0.0591 | scores ==== 0.7254\n"
     ]
    },
    {
     "name": "stderr",
     "output_type": "stream",
     "text": [
      "66it [07:01,  6.11s/it]"
     ]
    },
    {
     "name": "stdout",
     "output_type": "stream",
     "text": [
      "65\n",
      "4 | training_loss ==== 0.0689 | evaluating_loss ==== 0.0740 | scores ==== 0.7276\n"
     ]
    },
    {
     "name": "stderr",
     "output_type": "stream",
     "text": [
      "69it [07:19,  6.37s/it]\n",
      "1it [00:06,  6.12s/it]"
     ]
    },
    {
     "name": "stdout",
     "output_type": "stream",
     "text": [
      "0\n",
      "5 | training_loss ==== 0.0626 | evaluating_loss ==== 0.0694 | scores ==== 0.7305\n"
     ]
    },
    {
     "name": "stderr",
     "output_type": "stream",
     "text": [
      "6it [00:36,  6.14s/it]"
     ]
    },
    {
     "name": "stdout",
     "output_type": "stream",
     "text": [
      "5\n",
      "5 | training_loss ==== 0.0727 | evaluating_loss ==== 0.0817 | scores ==== 0.7288\n"
     ]
    },
    {
     "name": "stderr",
     "output_type": "stream",
     "text": [
      "11it [01:07,  6.07s/it]"
     ]
    },
    {
     "name": "stdout",
     "output_type": "stream",
     "text": [
      "10\n",
      "5 | training_loss ==== 0.0782 | evaluating_loss ==== 0.0767 | scores ==== 0.7267\n"
     ]
    },
    {
     "name": "stderr",
     "output_type": "stream",
     "text": [
      "16it [01:37,  6.10s/it]"
     ]
    },
    {
     "name": "stdout",
     "output_type": "stream",
     "text": [
      "15\n",
      "5 | training_loss ==== 0.0751 | evaluating_loss ==== 0.0702 | scores ==== 0.7250\n"
     ]
    },
    {
     "name": "stderr",
     "output_type": "stream",
     "text": [
      "21it [02:08,  6.04s/it]"
     ]
    },
    {
     "name": "stdout",
     "output_type": "stream",
     "text": [
      "20\n",
      "5 | training_loss ==== 0.0613 | evaluating_loss ==== 0.0620 | scores ==== 0.7181\n"
     ]
    },
    {
     "name": "stderr",
     "output_type": "stream",
     "text": [
      "26it [02:38,  6.12s/it]"
     ]
    },
    {
     "name": "stdout",
     "output_type": "stream",
     "text": [
      "25\n",
      "5 | training_loss ==== 0.0641 | evaluating_loss ==== 0.0626 | scores ==== 0.7146\n"
     ]
    },
    {
     "name": "stderr",
     "output_type": "stream",
     "text": [
      "31it [03:08,  6.07s/it]"
     ]
    },
    {
     "name": "stdout",
     "output_type": "stream",
     "text": [
      "30\n",
      "5 | training_loss ==== 0.0730 | evaluating_loss ==== 0.0708 | scores ==== 0.7085\n"
     ]
    },
    {
     "name": "stderr",
     "output_type": "stream",
     "text": [
      "36it [03:39,  6.09s/it]"
     ]
    },
    {
     "name": "stdout",
     "output_type": "stream",
     "text": [
      "35\n",
      "5 | training_loss ==== 0.0758 | evaluating_loss ==== 0.0741 | scores ==== 0.7173\n"
     ]
    },
    {
     "name": "stderr",
     "output_type": "stream",
     "text": [
      "41it [04:09,  6.09s/it]"
     ]
    },
    {
     "name": "stdout",
     "output_type": "stream",
     "text": [
      "40\n",
      "5 | training_loss ==== 0.0802 | evaluating_loss ==== 0.0551 | scores ==== 0.7357\n"
     ]
    },
    {
     "name": "stderr",
     "output_type": "stream",
     "text": [
      "46it [04:40,  6.10s/it]"
     ]
    },
    {
     "name": "stdout",
     "output_type": "stream",
     "text": [
      "45\n",
      "5 | training_loss ==== 0.0729 | evaluating_loss ==== 0.0759 | scores ==== 0.7261\n"
     ]
    },
    {
     "name": "stderr",
     "output_type": "stream",
     "text": [
      "51it [05:13,  6.86s/it]"
     ]
    },
    {
     "name": "stdout",
     "output_type": "stream",
     "text": [
      "50\n",
      "5 | training_loss ==== 0.0710 | evaluating_loss ==== 0.0709 | scores ==== 0.7161\n"
     ]
    },
    {
     "name": "stderr",
     "output_type": "stream",
     "text": [
      "56it [05:46,  6.60s/it]"
     ]
    },
    {
     "name": "stdout",
     "output_type": "stream",
     "text": [
      "55\n",
      "5 | training_loss ==== 0.0664 | evaluating_loss ==== 0.0735 | scores ==== 0.7313\n"
     ]
    },
    {
     "name": "stderr",
     "output_type": "stream",
     "text": [
      "61it [06:17,  6.32s/it]"
     ]
    },
    {
     "name": "stdout",
     "output_type": "stream",
     "text": [
      "60\n",
      "5 | training_loss ==== 0.0736 | evaluating_loss ==== 0.0747 | scores ==== 0.7386\n"
     ]
    },
    {
     "name": "stderr",
     "output_type": "stream",
     "text": [
      "66it [06:50,  6.38s/it]"
     ]
    },
    {
     "name": "stdout",
     "output_type": "stream",
     "text": [
      "65\n",
      "5 | training_loss ==== 0.0622 | evaluating_loss ==== 0.0625 | scores ==== 0.7331\n"
     ]
    },
    {
     "name": "stderr",
     "output_type": "stream",
     "text": [
      "69it [07:08,  6.21s/it]\n"
     ]
    }
   ],
   "source": [
    "loss_ = []\n",
    "iteration_ = []\n",
    "eval_loss_ = []\n",
    "for i in range(5):\n",
    "    \n",
    "#     predicted, true_label = get_predictions(validation_loader, model, device = DEVICE)\n",
    "#     print(f'VALIDATION F1_SCORE: {f1_score([int(i) for i in predicted], true_label)}')\n",
    "          \n",
    "    for j, (x, y) in tqdm(enumerate(training_loader)):\n",
    "    # x, y = next(iter(training_loader))\n",
    "        model.train()\n",
    "        pred = model(x)\n",
    "\n",
    "        train_loss = criterion(pred, y)\n",
    "\n",
    "        optimizer.zero_grad()\n",
    "\n",
    "        train_loss.backward()\n",
    "\n",
    "        optimizer.step()\n",
    "\n",
    "        iteration_.append(i)\n",
    "\n",
    "        loss_.append(train_loss)\n",
    "\n",
    "        probability, real = get_predictions(validation_loader, model, DEVICE)\n",
    "        scores = f1_score(probability, real, average = 'macro')\n",
    "        with torch.inference_mode():\n",
    "            model.eval()\n",
    "            for w, (x, y) in enumerate(validation_loader):\n",
    "                prediction = model(x)\n",
    "                eval_loss = criterion(prediction, y)\n",
    "                eval_loss_.append(eval_loss)\n",
    "        if j % 5 == 0:\n",
    "            print(j)\n",
    "            print(f'{i+1} | training_loss ==== {train_loss:.4f} | evaluating_loss ==== {eval_loss:.4f} | scores ==== {scores:.4f}')\n"
   ]
  },
  {
   "cell_type": "code",
   "execution_count": null,
   "id": "dda582e8",
   "metadata": {},
   "outputs": [],
   "source": [
    "# torch.round(torch.sigmoid(prediction))\n",
    "f1_score(probability, real)"
   ]
  },
  {
   "cell_type": "code",
   "execution_count": 306,
   "id": "dc2f660d",
   "metadata": {},
   "outputs": [],
   "source": [
    "np.set_printoptions(threshold = 1000000, precision = 2)\n",
    "pd.set_option('display.max_row', 1000000)"
   ]
  },
  {
   "cell_type": "code",
   "execution_count": 79,
   "id": "7639f202",
   "metadata": {},
   "outputs": [
    {
     "data": {
      "text/plain": [
       "0.0    699\n",
       "1.0      1\n",
       "dtype: int64"
      ]
     },
     "execution_count": 79,
     "metadata": {},
     "output_type": "execute_result"
    }
   ],
   "source": [
    "pd.Series(torch.round(torch.sigmoid(prediction)).detach().numpy()).value_counts()"
   ]
  },
  {
   "cell_type": "code",
   "execution_count": 322,
   "id": "ba3a0955",
   "metadata": {
    "scrolled": true
   },
   "outputs": [
    {
     "data": {
      "text/plain": [
       "Series([], dtype: int64)"
      ]
     },
     "execution_count": 322,
     "metadata": {},
     "output_type": "execute_result"
    }
   ],
   "source": [
    "prediction_pred = pd.Series(torch.round(torch.relu(prediction)).detach().numpy()).astype('int64')\n",
    "prediction_pred[prediction_pred > 1]"
   ]
  },
  {
   "cell_type": "code",
   "execution_count": 324,
   "id": "c654afda",
   "metadata": {},
   "outputs": [
    {
     "data": {
      "text/plain": [
       "(array([0], dtype=int64), 2)"
      ]
     },
     "execution_count": 324,
     "metadata": {},
     "output_type": "execute_result"
    }
   ],
   "source": [
    "prediction_pred.unique(), y_test.nunique()"
   ]
  },
  {
   "cell_type": "code",
   "execution_count": 262,
   "id": "cb809d0e",
   "metadata": {},
   "outputs": [
    {
     "data": {
      "text/plain": [
       "1725"
      ]
     },
     "execution_count": 262,
     "metadata": {},
     "output_type": "execute_result"
    }
   ],
   "source": [
    "len(loss_)"
   ]
  },
  {
   "cell_type": "code",
   "execution_count": 132,
   "id": "11804554",
   "metadata": {},
   "outputs": [
    {
     "data": {
      "image/png": "[encoded data removed]",
      "text/plain": [
       "<Figure size 432x288 with 1 Axes>"
      ]
     },
     "metadata": {
      "needs_background": "light"
     },
     "output_type": "display_data"
    }
   ],
   "source": [
    "plt.scatter(list(range(len(eval_loss_))), [i.detach().numpy() for i in eval_loss_], cmap= 'blue')\n",
    "plt.scatter(list(range(len(loss_))), [i.detach().numpy() for i in loss_], cmap = 'red')\n",
    "plt.xlabel('iterations')\n",
    "plt.ylabel('cost')\n",
    "plt.show()"
   ]
  },
  {
   "cell_type": "code",
   "execution_count": 80,
   "id": "9ca99c2a",
   "metadata": {},
   "outputs": [
    {
     "data": {
      "text/plain": [
       "(344098,)"
      ]
     },
     "execution_count": 80,
     "metadata": {},
     "output_type": "execute_result"
    }
   ],
   "source": [
    "plt.scatter(list(range(len(eval_loss_))), [i.detach().numpy() for i in eval_loss_], cmap= 'blue')\n",
    "plt.scatter(list(range(len(loss_))), [i.detach().numpy() for i in loss_], cmap = 'red')\n",
    "plt.xlabel('iterations')\n",
    "plt.ylabel('cost')\n",
    "plt.show()"
   ]
  },
  {
   "cell_type": "code",
   "execution_count": null,
   "id": "10970ec1",
   "metadata": {},
   "outputs": [],
   "source": []
  },
  {
   "cell_type": "code",
   "execution_count": null,
   "id": "f9811608",
   "metadata": {},
   "outputs": [],
   "source": []
  }
 ],
 "metadata": {
  "kernelspec": {
   "display_name": "Python 3 (ipykernel)",
   "language": "python",
   "name": "python3"
  },
  "language_info": {
   "codemirror_mode": {
    "name": "ipython",
    "version": 3
   },
   "file_extension": ".py",
   "mimetype": "text/x-python",
   "name": "python",
   "nbconvert_exporter": "python",
   "pygments_lexer": "ipython3",
   "version": "3.11.3"
  }
 },
 "nbformat": 4,
 "nbformat_minor": 5
}
